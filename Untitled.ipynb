{
 "cells": [
  {
   "cell_type": "code",
   "execution_count": null,
   "id": "69b8b4a6",
   "metadata": {},
   "outputs": [],
   "source": [
    "from apiclient.discovery import build\n",
    "from google_auth_oauthlib.flow import InstalledAppFlow\n",
    "import pickle"
   ]
  },
  {
   "cell_type": "code",
   "execution_count": null,
   "id": "5622c702",
   "metadata": {},
   "outputs": [],
   "source": [
    "scopes = ['https://www.googleapis.com/auth/calendar']"
   ]
  },
  {
   "cell_type": "code",
   "execution_count": null,
   "id": "284501a9",
   "metadata": {},
   "outputs": [],
   "source": [
    "flow = InstalledAppFlow.from_client_secrets_file('secret.json', scopes=scopes)\n"
   ]
  },
  {
   "cell_type": "code",
   "execution_count": null,
   "id": "14985f7a",
   "metadata": {},
   "outputs": [],
   "source": []
  },
  {
   "cell_type": "code",
   "execution_count": 1,
   "id": "75d526bf",
   "metadata": {},
   "outputs": [
    {
     "name": "stdout",
     "output_type": "stream",
     "text": [
      "Please visit this URL to authorize this application: https://accounts.google.com/o/oauth2/auth?response_type=code&client_id=510900403972-81ne8n8qriihbtfiiige60oi5kdmgvph.apps.googleusercontent.com&redirect_uri=http%3A%2F%2Flocalhost%3A5000%2F&scope=https%3A%2F%2Fwww.googleapis.com%2Fauth%2Fcalendar&state=VT2cgP1RJu5x3eh4jNT6P0385ZM81b&access_type=offline\n"
     ]
    }
   ],
   "source": [
    "\n",
    "# create_appointment(title, start_time, end_time, description):\n",
    "scopes = ['https://www.googleapis.com/auth/calendar']    \n",
    "import datetime\n",
    "import os\n",
    "from apiclient.discovery import build\n",
    "from google_auth_oauthlib.flow import InstalledAppFlow\n",
    "from pickle import dump, load\n",
    "flow = InstalledAppFlow.from_client_secrets_file('credentials.json', scopes=scopes)\n",
    "cred = flow.run_local_server(port=5000)\n",
    "#     dump(cred, open(\"cred.pkl\", \"wb\"))\n",
    "#     service = build('calendar', 'v3', credentials=cred)\n",
    "#     event = service.events().insert(calendarId='primary', body=event).execute()\n",
    "#     return print('Event created: %s' % (event.get('htmlLink')))\n"
   ]
  },
  {
   "cell_type": "code",
   "execution_count": 2,
   "id": "817cc7f5",
   "metadata": {},
   "outputs": [
    {
     "data": {
      "text/plain": [
       "<google.oauth2.credentials.Credentials at 0x205c4035520>"
      ]
     },
     "execution_count": 2,
     "metadata": {},
     "output_type": "execute_result"
    }
   ],
   "source": [
    "cred."
   ]
  },
  {
   "cell_type": "code",
   "execution_count": 53,
   "id": "5c02c63e",
   "metadata": {},
   "outputs": [
    {
     "name": "stdout",
     "output_type": "stream",
     "text": [
      "2023-04-28T08:08:21+00:00\n",
      "2023-04-28T08:53:21+00:00\n"
     ]
    },
    {
     "data": {
      "text/plain": [
       "'2015-05-28T09:00:00-07:00'"
      ]
     },
     "execution_count": 53,
     "metadata": {},
     "output_type": "execute_result"
    }
   ],
   "source": [
    "start = datetime.utcnow()\n",
    "end = (start + timedelta(minutes=45)).isoformat()\n",
    "start = start.isoformat()\n",
    "print(start[:-7]+'+00:00')\n",
    "print(end[:-7]+'+00:00')\n",
    "\n",
    "'2015-05-28T09:00:00-07:00'\n",
    "            "
   ]
  },
  {
   "cell_type": "code",
   "execution_count": 52,
   "id": "397a4c15",
   "metadata": {},
   "outputs": [
    {
     "name": "stdout",
     "output_type": "stream",
     "text": [
      "2023-04-28T08:08:18.301822+00:00\n"
     ]
    }
   ],
   "source": [
    "from datetime import datetime, timezone, timedelta\n",
    "\n",
    "now = datetime.now(timezone.utc)\n",
    "print(now.isoformat())"
   ]
  },
  {
   "cell_type": "code",
   "execution_count": 54,
   "id": "7082e905",
   "metadata": {
    "scrolled": false
   },
   "outputs": [
    {
     "name": "stdout",
     "output_type": "stream",
     "text": [
      "Event created: https://www.google.com/calendar/event?eid=c2Jmb3I5dXIzaXIzM3I4aGlsc200cGx1YW8gaGltdWdvZDY5QG0\n"
     ]
    }
   ],
   "source": [
    "a = create_appointment('Hi title event',start[:-7]+'+00:00' , end[:-7]+'+00:00', 'New event')"
   ]
  },
  {
   "cell_type": "code",
   "execution_count": null,
   "id": "960ba4ca",
   "metadata": {},
   "outputs": [],
   "source": []
  },
  {
   "cell_type": "code",
   "execution_count": 8,
   "id": "9b256ee8",
   "metadata": {},
   "outputs": [],
   "source": [
    "import datetime"
   ]
  },
  {
   "cell_type": "code",
   "execution_count": 11,
   "id": "bd9d2969",
   "metadata": {},
   "outputs": [],
   "source": [
    "a = datetime.datetime.utcnow()"
   ]
  },
  {
   "cell_type": "code",
   "execution_count": 13,
   "id": "893623d9",
   "metadata": {},
   "outputs": [
    {
     "data": {
      "text/plain": [
       "'2023-04-28T06:56:49.670130Z'"
      ]
     },
     "execution_count": 13,
     "metadata": {},
     "output_type": "execute_result"
    }
   ],
   "source": [
    "a.isoformat() + 'Z'"
   ]
  },
  {
   "cell_type": "code",
   "execution_count": 16,
   "id": "191ed120",
   "metadata": {},
   "outputs": [
    {
     "data": {
      "text/plain": [
       "'2023-04-28T07:41:49.670130Z'"
      ]
     },
     "execution_count": 16,
     "metadata": {},
     "output_type": "execute_result"
    }
   ],
   "source": [
    "(a + datetime.timedelta(minutes=45)).isoformat()+'Z'"
   ]
  },
  {
   "cell_type": "code",
   "execution_count": null,
   "id": "8a4ca6ac",
   "metadata": {},
   "outputs": [],
   "source": []
  },
  {
   "cell_type": "code",
   "execution_count": null,
   "id": "2ed9f1f8",
   "metadata": {},
   "outputs": [],
   "source": []
  }
 ],
 "metadata": {
  "kernelspec": {
   "display_name": "Python 3 (ipykernel)",
   "language": "python",
   "name": "python3"
  },
  "language_info": {
   "codemirror_mode": {
    "name": "ipython",
    "version": 3
   },
   "file_extension": ".py",
   "mimetype": "text/x-python",
   "name": "python",
   "nbconvert_exporter": "python",
   "pygments_lexer": "ipython3",
   "version": "3.9.12"
  }
 },
 "nbformat": 4,
 "nbformat_minor": 5
}
