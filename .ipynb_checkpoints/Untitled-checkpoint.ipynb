{
 "cells": [
  {
   "cell_type": "code",
   "execution_count": null,
   "id": "69b8b4a6",
   "metadata": {},
   "outputs": [],
   "source": [
    "from apiclient.discovery import build\n",
    "from google_auth_oauthlib.flow import InstalledAppFlow\n",
    "import pickle"
   ]
  },
  {
   "cell_type": "code",
   "execution_count": null,
   "id": "5622c702",
   "metadata": {},
   "outputs": [],
   "source": [
    "scopes = ['https://www.googleapis.com/auth/calendar']"
   ]
  },
  {
   "cell_type": "code",
   "execution_count": null,
   "id": "284501a9",
   "metadata": {},
   "outputs": [],
   "source": [
    "flow = InstalledAppFlow.from_client_secrets_file('secret.json', scopes=scopes)\n"
   ]
  },
  {
   "cell_type": "code",
   "execution_count": null,
   "id": "623ca8ab",
   "metadata": {},
   "outputs": [],
   "source": []
  },
  {
   "cell_type": "code",
   "execution_count": 2,
   "id": "75d526bf",
   "metadata": {},
   "outputs": [],
   "source": [
    "import datetime\n",
    "import os\n",
    "def create_appointment(title, start_time, end_time, description):\n",
    "    scopes = ['https://www.googleapis.com/auth/calendar']    \n",
    "    from apiclient.discovery import build\n",
    "    from google_auth_oauthlib.flow import InstalledAppFlow\n",
    "    from pickle import dump, load\n",
    "    flow = InstalledAppFlow.from_client_secrets_file('credentials.json', scopes=scopes)\n",
    "    \n",
    "    event = {\n",
    "              'summary': title,\n",
    "              'description': description,\n",
    "              'start': {\n",
    "                    'dateTime': start_time,\n",
    "                    'timeZone': 'UTC',\n",
    "                        },\n",
    "              'end': {\n",
    "                    'dateTime': end_time,\n",
    "                    'timeZone': 'UTC',}}\n",
    "\n",
    "    if os.path.exists('creds.pkl'):\n",
    "        creds = load(open(\"creds.pkl\", \"rb\"))\n",
    "    else:\n",
    "        cred = flow.run_local_server(port=5000)\n",
    "        dump(cred, open(\"cred.pkl\", \"wb\"))\n",
    "    service = build('calendar', 'v3', credentials=cred)\n",
    "    event = service.events().insert(calendarId='primary', body=event).execute()\n",
    "    return print('Event created: %s' % (event.get('htmlLink')))\n",
    "    "
   ]
  },
  {
   "cell_type": "code",
   "execution_count": 30,
   "id": "98a07e64",
   "metadata": {},
   "outputs": [
    {
     "name": "stdout",
     "output_type": "stream",
     "text": [
      "2023-04-28T07:05:29.377510\n",
      "2023-04-28T07:50:29.377510\n"
     ]
    },
    {
     "data": {
      "text/plain": [
       "'2015-05-28T09:00:00-07:00'"
      ]
     },
     "execution_count": 30,
     "metadata": {},
     "output_type": "execute_result"
    }
   ],
   "source": [
    "start = datetime.datetime.utcnow()\n",
    "end = (start + datetime.timedelta(minutes=45)).isoformat()\n",
    "start = start.isoformat()\n",
    "print(start)\n",
    "print(end)\n",
    "\n",
    "'2015-05-28T09:00:00-07:00'\n",
    "            "
   ]
  },
  {
   "cell_type": "code",
   "execution_count": 28,
   "id": "7082e905",
   "metadata": {
    "scrolled": false
   },
   "outputs": [
    {
     "name": "stdout",
     "output_type": "stream",
     "text": [
      "Please visit this URL to authorize this application: https://accounts.google.com/o/oauth2/auth?response_type=code&client_id=510900403972-81ne8n8qriihbtfiiige60oi5kdmgvph.apps.googleusercontent.com&redirect_uri=http%3A%2F%2Flocalhost%3A5000%2F&scope=https%3A%2F%2Fwww.googleapis.com%2Fauth%2Fcalendar&state=flBGc4ufVHHd0sbQ6Mn6KZtGtznMUs&access_type=offline\n",
      "Event created: https://www.google.com/calendar/event?eid=N2c5cGM2cW5xbWpwaDFlYTVqcWZxb2VmbHMgaGltdWdvZDY5QG0\n"
     ]
    }
   ],
   "source": [
    "a = create_appointment('Hi title event',start , end, 'Hi description')"
   ]
  },
  {
   "cell_type": "code",
   "execution_count": null,
   "id": "17a4b118",
   "metadata": {},
   "outputs": [],
   "source": [
    "datetime.datetime.utcnow().isoformat()"
   ]
  },
  {
   "cell_type": "code",
   "execution_count": null,
   "id": "70aa4da9",
   "metadata": {},
   "outputs": [],
   "source": [
    "service = build('calendar', 'v3', credentials=cred)"
   ]
  },
  {
   "cell_type": "code",
   "execution_count": null,
   "id": "44c44ac0",
   "metadata": {
    "scrolled": true
   },
   "outputs": [],
   "source": [
    "    event = service.events().insert(calendarId='primary', body=event).execute()\n",
    "    print('Event created: %s' % (event.get('htmlLink')))"
   ]
  },
  {
   "cell_type": "code",
   "execution_count": null,
   "id": "3dd41f8b",
   "metadata": {},
   "outputs": [],
   "source": [
    "from __future__ import print_function\n",
    "\n",
    "import datetime\n",
    "import os.path\n",
    "\n",
    "from google.auth.transport.requests import Request\n",
    "from google.oauth2.credentials import Credentials\n",
    "from google_auth_oauthlib.flow import InstalledAppFlow\n",
    "from googleapiclient.discovery import build\n",
    "from googleapiclient.errors import HttpError\n",
    "\n",
    "# If modifying these scopes, delete the file token.json.\n",
    "SCOPES = ['https://www.googleapis.com/auth/calendar']\n",
    "\n",
    "\n",
    "def main():\n",
    "    \"\"\"Shows basic usage of the Google Calendar API.\n",
    "    Prints the start and name of the next 10 events on the user's calendar.\n",
    "    \"\"\"\n",
    "    creds = None\n",
    "    # The file token.json stores the user's access and refresh tokens, and is\n",
    "    # created automatically when the authorization flow completes for the first\n",
    "    # time.\n",
    "    if os.path.exists('token.json'):\n",
    "        creds = Credentials.from_authorized_user_file('token.json', SCOPES)\n",
    "    # If there are no (valid) credentials available, let the user log in.\n",
    "    if not creds or not creds.valid:\n",
    "        if creds and creds.expired and creds.refresh_token:\n",
    "            creds.refresh(Request())\n",
    "        else:\n",
    "            flow = InstalledAppFlow.from_client_secrets_file(\n",
    "                'credentials.json', SCOPES)\n",
    "            creds = flow.run_local_server(port=5000)\n",
    "        # Save the credentials for the next run\n",
    "        with open('token.json', 'w') as token:\n",
    "            token.write(creds.to_json())\n",
    "\n",
    "    try:\n",
    "        service = build('calendar', 'v3', credentials=creds)\n",
    "\n",
    "        # Call the Calendar API\n",
    "        now = datetime.datetime.utcnow().isoformat() + 'Z'  # 'Z' indicates UTC time\n",
    "        print('Getting the upcoming 10 events')\n",
    "        events_result = service.events().list(calendarId='primary', timeMin=now,\n",
    "                                              maxResults=10, singleEvents=True,\n",
    "                                              orderBy='startTime').execute()\n",
    "        events = events_result.get('items', [])\n",
    "\n",
    "        if not events:\n",
    "            print('No upcoming events found.')\n",
    "            return\n",
    "\n",
    "        # Prints the start and name of the next 10 events\n",
    "        for event in events:\n",
    "            start = event['start'].get('dateTime', event['start'].get('date'))\n",
    "            print(start, event['summary'])\n",
    "\n",
    "    except HttpError as error:\n",
    "        print('An error occurred: %s' % error)\n",
    "\n",
    "\n",
    "if __name__ == '__main__':\n",
    "    main()"
   ]
  },
  {
   "cell_type": "code",
   "execution_count": 8,
   "id": "259df846",
   "metadata": {},
   "outputs": [],
   "source": [
    "import datetime"
   ]
  },
  {
   "cell_type": "code",
   "execution_count": 11,
   "id": "e566a2e1",
   "metadata": {},
   "outputs": [],
   "source": [
    "a = datetime.datetime.utcnow()"
   ]
  },
  {
   "cell_type": "code",
   "execution_count": 13,
   "id": "2a108fa4",
   "metadata": {},
   "outputs": [
    {
     "data": {
      "text/plain": [
       "'2023-04-28T06:56:49.670130Z'"
      ]
     },
     "execution_count": 13,
     "metadata": {},
     "output_type": "execute_result"
    }
   ],
   "source": [
    "a.isoformat() + 'Z'"
   ]
  },
  {
   "cell_type": "code",
   "execution_count": 16,
   "id": "32cc532c",
   "metadata": {},
   "outputs": [
    {
     "data": {
      "text/plain": [
       "'2023-04-28T07:41:49.670130Z'"
      ]
     },
     "execution_count": 16,
     "metadata": {},
     "output_type": "execute_result"
    }
   ],
   "source": [
    "(a + datetime.timedelta(minutes=45)).isoformat()+'Z'"
   ]
  },
  {
   "cell_type": "code",
   "execution_count": null,
   "id": "d1fbe7a7",
   "metadata": {},
   "outputs": [],
   "source": []
  },
  {
   "cell_type": "code",
   "execution_count": null,
   "id": "1e359f4f",
   "metadata": {},
   "outputs": [],
   "source": []
  }
 ],
 "metadata": {
  "kernelspec": {
   "display_name": "Python 3 (ipykernel)",
   "language": "python",
   "name": "python3"
  },
  "language_info": {
   "codemirror_mode": {
    "name": "ipython",
    "version": 3
   },
   "file_extension": ".py",
   "mimetype": "text/x-python",
   "name": "python",
   "nbconvert_exporter": "python",
   "pygments_lexer": "ipython3",
   "version": "3.9.13"
  }
 },
 "nbformat": 4,
 "nbformat_minor": 5
}
